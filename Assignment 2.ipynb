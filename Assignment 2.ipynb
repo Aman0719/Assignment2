{
 "cells": [
  {
   "cell_type": "code",
   "execution_count": 14,
   "id": "b05d48fd-c668-46b8-a86d-0ebdde2329be",
   "metadata": {},
   "outputs": [
    {
     "name": "stdin",
     "output_type": "stream",
     "text": [
      "Enter Your Percentage 95\n"
     ]
    },
    {
     "name": "stdout",
     "output_type": "stream",
     "text": [
      "Grade A\n"
     ]
    }
   ],
   "source": [
    "#Q1. Write a Program to accept percentage from the user and display the grade accordingly\n",
    "\n",
    "Percentage=int(input(\"Enter Your Percentage\"))\n",
    "\n",
    "if Percentage >90:\n",
    "    print(\"Grade A\")\n",
    "elif Percentage >80 and Percentage <=90:\n",
    "    print(\"Grade B\")\n",
    "elif Percentage >=60 and Percentage <=80:\n",
    "    print(\"Grade C\")\n",
    "else:\n",
    "    print(\"Grade D\")"
   ]
  },
  {
   "cell_type": "code",
   "execution_count": 15,
   "id": "ea95b353-b3a4-41bc-aef9-f4e826da3a1e",
   "metadata": {},
   "outputs": [
    {
     "name": "stdin",
     "output_type": "stream",
     "text": [
      "Enter the Cost Price of Bike 75000\n"
     ]
    },
    {
     "name": "stdout",
     "output_type": "stream",
     "text": [
      "Tax to be Paid - 10%\n"
     ]
    }
   ],
   "source": [
    "#Q2. Write a program to accept the cost price of bike and display the road tax to be paid accordingly\n",
    "\n",
    "cost=int(input(\"Enter the Cost Price of Bike\"))\n",
    "\n",
    "if cost >100000:\n",
    "    print(\"Tax to be Paid - 15%\")\n",
    "elif cost >50000 and cost <=100000:\n",
    "    print(\"Tax to be Paid - 10%\")\n",
    "else:\n",
    "    print(\"Tax to be Paid - 5%\")"
   ]
  },
  {
   "cell_type": "code",
   "execution_count": 16,
   "id": "c6ba7f82-7399-43e0-806e-df2c745d889b",
   "metadata": {},
   "outputs": [
    {
     "name": "stdin",
     "output_type": "stream",
     "text": [
      "Enter the Name of the City Agra\n"
     ]
    },
    {
     "name": "stdout",
     "output_type": "stream",
     "text": [
      "The Monument of Agra - Taj Mahal\n"
     ]
    }
   ],
   "source": [
    "#Q3. Accept any city from the user and display monument of that city.\n",
    "\n",
    "City= str(input(\"Enter the Name of the City\"))\n",
    "\n",
    "if City == \"Delhi\":\n",
    "    print(\"The Monument of Delhi - Red Fort\")\n",
    "elif City == \"Agra\":\n",
    "    print(\"The Monument of Agra - Taj Mahal\")\n",
    "elif City == \"Jaipur\":\n",
    "    print(\"The Monument of Jaipur - Jal Mahal\")\n",
    "else:\n",
    "    print(\"Update my Library\")"
   ]
  },
  {
   "cell_type": "code",
   "execution_count": 50,
   "id": "2ede0fb7-8874-49f3-953b-d7821315b3b7",
   "metadata": {},
   "outputs": [
    {
     "name": "stdin",
     "output_type": "stream",
     "text": [
      "Enter the Number 99\n"
     ]
    },
    {
     "name": "stdout",
     "output_type": "stream",
     "text": [
      "The number can be divided by 3, 3 times before it is less than or equal to 10\n"
     ]
    }
   ],
   "source": [
    "#Q4. Check how many times a given number can be divided by 3 before it is less than or equal to 10.\n",
    "\n",
    "Number = int(input(\"Enter the Number\"))\n",
    "Counter=0\n",
    "\n",
    "while Number >10:\n",
    "    Number=Number/3\n",
    "    Counter=Counter+1\n",
    "\n",
    "print(\"The number can be divided by 3,\", Counter, \"times before it is less than or equal to 10\")  "
   ]
  },
  {
   "cell_type": "code",
   "execution_count": null,
   "id": "867bb4cd-4b45-40c6-b427-03afce4fa4a8",
   "metadata": {},
   "outputs": [],
   "source": [
    "#Q5. Why and when to use while loop in Python give a detaild description with example.\n",
    "\n",
    "Ans- In programming, loops are used to repeat a block of code and there are basically two types of loop in Python programming language namely\n",
    "1. for, and\n",
    "2. while\n",
    "\n",
    "-When While loop is used?\n",
    " It is used when we want to run a block code until a certain condition is met in the program and not for the entire program.\n",
    "\n",
    "-Why While loop is used?\n",
    " The while loop has the unique feature of running the loop till a certain condition is true and not beyond that, which is missing the other type of loop.\n",
    " In simple words, If the condition evaluates to True, the code inside the while loop is executed and it will repeat it untill a false condition is recahed.\n",
    " When condition evaluates to False, the loop automatically stops. It saves time and memory and makes program more compact.\n",
    "\n",
    "Example of While loop:\n",
    "In the next cell"
   ]
  },
  {
   "cell_type": "code",
   "execution_count": 2,
   "id": "3f88e48b-3764-48b6-8d27-6635c4491406",
   "metadata": {},
   "outputs": [
    {
     "name": "stdin",
     "output_type": "stream",
     "text": [
      "Enter the limit 5\n"
     ]
    },
    {
     "name": "stdout",
     "output_type": "stream",
     "text": [
      "1\n",
      "2\n",
      "3\n",
      "4\n",
      "5\n"
     ]
    }
   ],
   "source": [
    "#Program to display number from 0 to any limit using while loop.\n",
    "\n",
    "n=int(input(\"Enter the limit\"))\n",
    "i = 1\n",
    "\n",
    "while i <= n:\n",
    "    print(i)\n",
    "    i = i + 1"
   ]
  },
  {
   "cell_type": "code",
   "execution_count": 5,
   "id": "b9ebe681-0842-47eb-9540-d43024c40be2",
   "metadata": {},
   "outputs": [],
   "source": [
    "# Q6. Use nested while loop to display three different pattern.\n",
    "\n",
    "Ans- A nested while loop is a while statement inside another while statement.\n",
    "     In a nested while loop, one iteration of the outer loop is first executed, after which the inner loop is executed. \n",
    "     The execution of the inner loop continues till the condition described in the inner loop is satisfied.\n",
    "        \n",
    "The three different patterns using the nested while loop are in next three cells:-\n"
   ]
  },
  {
   "cell_type": "code",
   "execution_count": 6,
   "id": "21162ee0-751e-4534-9381-36adb5d440d0",
   "metadata": {},
   "outputs": [
    {
     "name": "stdout",
     "output_type": "stream",
     "text": [
      "1 \n",
      "1 2 \n",
      "1 2 3 \n",
      "1 2 3 4 \n",
      "1 2 3 4 5 \n"
     ]
    }
   ],
   "source": [
    "#Triangular Pattern of Number\n",
    "\n",
    "i=1\n",
    "while i<=5:\n",
    "    j=1\n",
    "    while j<=i:\n",
    "        print(j,end=\" \")\n",
    "        j=j+1\n",
    "    print(\"\")\n",
    "    i=i+1"
   ]
  },
  {
   "cell_type": "code",
   "execution_count": 9,
   "id": "980e8ebd-d75d-4d9f-8862-066bee453070",
   "metadata": {},
   "outputs": [
    {
     "name": "stdout",
     "output_type": "stream",
     "text": [
      "     *\n",
      "    ***\n",
      "   *****\n",
      "  *******\n",
      " *********\n"
     ]
    }
   ],
   "source": [
    "#Pyramid of Stars\n",
    "\n",
    "rows = 5\n",
    "k = 0\n",
    "i = 1\n",
    "while i <= rows:\n",
    "    j = 1\n",
    "    while j <= (rows - i + 1):\n",
    "        print(\" \", end=\"\")\n",
    "        j += 1\n",
    "    k = 0\n",
    "    while k != (2 * i - 1):\n",
    "        print(\"*\", end=\"\")\n",
    "        k += 1\n",
    "    print(\"\")\n",
    "    i += 1"
   ]
  },
  {
   "cell_type": "code",
   "execution_count": 10,
   "id": "4afaa05d-fbc9-4999-9c0f-c36013069ed6",
   "metadata": {},
   "outputs": [
    {
     "name": "stdout",
     "output_type": "stream",
     "text": [
      "     * \n",
      "    * * \n",
      "   * * * \n",
      "  * * * * \n",
      " * * * * * \n",
      "  * * * * \n",
      "   * * * \n",
      "    * * \n",
      "     * \n",
      "      \n"
     ]
    }
   ],
   "source": [
    "#Diamond Pattern of Stars\n",
    "\n",
    "rows = 5\n",
    "k = 0\n",
    "i = 1\n",
    "while i <= (rows * 2):\n",
    "    j = 1\n",
    "    while j <= (rows - k):\n",
    "        print(\" \", end=\"\")\n",
    "        j += 1\n",
    "    n = 0\n",
    "    while n != (k + 1):\n",
    "        print(\"*\", end=\" \")\n",
    "        n += 1\n",
    "    print(\"\")\n",
    "    if i < rows:\n",
    "        k += 1\n",
    "    else:\n",
    "        k -= 1\n",
    "    i += 1"
   ]
  },
  {
   "cell_type": "code",
   "execution_count": 13,
   "id": "cf186846-8eb9-4eb1-a277-58bd3d439d9e",
   "metadata": {},
   "outputs": [
    {
     "name": "stdout",
     "output_type": "stream",
     "text": [
      "10\n",
      "9\n",
      "8\n",
      "7\n",
      "6\n",
      "5\n",
      "4\n",
      "3\n",
      "2\n",
      "1\n"
     ]
    }
   ],
   "source": [
    "#Q7. Reverse a while loop to display numbers from 10 to 1\n",
    "\n",
    "#Ans-\n",
    "\n",
    "n = 10\n",
    "while n >= 1:\n",
    "    print(n)\n",
    "    n= n-1"
   ]
  },
  {
   "cell_type": "code",
   "execution_count": null,
   "id": "b9de62ca-5a34-482d-8b66-e8549b87e4fd",
   "metadata": {},
   "outputs": [],
   "source": [
    "#Q8. Reverse a while loop to display numbers from 10 to 1\n",
    "\n",
    "Ans- Question is repeated."
   ]
  }
 ],
 "metadata": {
  "kernelspec": {
   "display_name": "Python 3 (ipykernel)",
   "language": "python",
   "name": "python3"
  },
  "language_info": {
   "codemirror_mode": {
    "name": "ipython",
    "version": 3
   },
   "file_extension": ".py",
   "mimetype": "text/x-python",
   "name": "python",
   "nbconvert_exporter": "python",
   "pygments_lexer": "ipython3",
   "version": "3.10.8"
  }
 },
 "nbformat": 4,
 "nbformat_minor": 5
}
